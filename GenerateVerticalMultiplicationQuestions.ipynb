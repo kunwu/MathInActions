{
 "cells": [
  {
   "attachments": {},
   "cell_type": "markdown",
   "metadata": {},
   "source": [
    "# Goal: Generate exercises on vertical multiplication involving a 4-digit number multiplied by a 3-digit number. The exercises should require carrying over.\n",
    "## Skills\n",
    "- Carrying over\n",
    "- Double carrying over: when the carry over contributes to the carry over in a higher position\n",
    "- Handling zeros in the middle position\n"
   ]
  },
  {
   "cell_type": "code",
   "execution_count": null,
   "metadata": {},
   "outputs": [],
   "source": [
    "#generate multiplication questions\n",
    "#requirements:\n",
    "#1. The multiplication problem should involve a 4-digit number multiplied by a 3-digit number.\n",
    "#2. The problem should require at least one carry over in the vertical multiplication process.\n",
    "#3. The 4-digit number should have zeros in the middle position.\n",
    "#4. When carrying over to a higher position, it should contribute to an additional carry over to the next higher position.\n",
    "#5. Requirements 2, 3, and 4 are all mandatory.\n",
    "#6. The question should be printed as a simple single-line expression.\n",
    "\n",
    "import random\n",
    "\n",
    "def generate_multiplication_problem():\n",
    "    while True:\n",
    "        num1 = random.randint(1000, 9999)\n",
    "        num2 = random.randint(100, 999)\n",
    "        result = num1 * num2\n",
    "        result_str = str(result)\n",
    "        carry = 0\n",
    "        carry_over = False\n",
    "        extra_carry_over = False\n",
    "        zeros_in_middle = False\n",
    "        for i in range(len(str(num2))):\n",
    "            digit1 = int(str(num2)[-(i+1)])\n",
    "            for j in range(len(str(num1))):\n",
    "                digit2 = int(str(num1)[-(j+1)])\n",
    "                # print(f\"d1:{digit1}, d2:{digit2}, c:{carry}\")\n",
    "                product = digit1 * digit2 + carry\n",
    "                if product >= 10:\n",
    "                    carry_over = True\n",
    "                    if (digit1 * digit2) % 10 + carry > 10:\n",
    "                        extra_carry_over = True\n",
    "                    carry = product // 10\n",
    "                else:\n",
    "                    carry = 0\n",
    "            carry = 0\n",
    "        if '0' in str(num1)[1:-1]:\n",
    "            zeros_in_middle = True\n",
    "        if extra_carry_over and zeros_in_middle:\n",
    "            # return f\"{num1} x {num2} = {result}\"\n",
    "            return (num1, num2, result)\n",
    "\n",
    "# Example usage\n",
    "for i in range(10):\n",
    "    (num1, num2, result) = (generate_multiplication_problem())\n",
    "    print(f\"{num1} x {num2} = {result}\")\n",
    "    "
   ]
  }
 ],
 "metadata": {
  "kernelspec": {
   "display_name": "Python 3",
   "language": "python",
   "name": "python3"
  },
  "language_info": {
   "codemirror_mode": {
    "name": "ipython",
    "version": 3
   },
   "file_extension": ".py",
   "mimetype": "text/x-python",
   "name": "python",
   "nbconvert_exporter": "python",
   "pygments_lexer": "ipython3",
   "version": "3.11.3"
  },
  "orig_nbformat": 4
 },
 "nbformat": 4,
 "nbformat_minor": 2
}
